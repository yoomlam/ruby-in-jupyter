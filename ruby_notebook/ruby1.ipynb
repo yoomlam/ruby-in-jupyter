{
 "cells": [
  {
   "cell_type": "markdown",
   "metadata": {},
   "source": [
    "http://devopspy.com/linux/ruby-kernel-jupyter-notebook/\n",
    "Extracted from https://dev.to/vrinek_94/a-short-guide-to-setup-a-jupyter-notebook-with-ruby-on-a-mac-with-a-fish-shell-5g52"
   ]
  },
  {
   "cell_type": "code",
   "execution_count": null,
   "metadata": {},
   "outputs": [],
   "source": [
    "%%bash\n",
    "brew install automake gmp libtool wget\n",
    "brew install zeromq --HEAD\n",
    "brew install czmq --HEAD\n",
    "\n",
    "export LIBZMQ_PATH=$(brew --prefix zeromq)/lib\n",
    "export LIBCZMQ_PATH=$(brew --prefix czmq)/lib\n",
    "\n",
    "# Do this in your rbenv\n",
    "gem install cztop\n",
    "gem install iruby --pre\n",
    "iruby register --force"
   ]
  },
  {
   "cell_type": "code",
   "execution_count": 4,
   "metadata": {},
   "outputs": [
    {
     "data": {
      "text/plain": [
       "true"
      ]
     },
     "execution_count": 4,
     "metadata": {},
     "output_type": "execute_result"
    }
   ],
   "source": [
    "require 'date'"
   ]
  },
  {
   "cell_type": "code",
   "execution_count": 5,
   "metadata": {},
   "outputs": [
    {
     "name": "stdout",
     "output_type": "stream",
     "text": [
      "-- output1.csv\n",
      "line 0: no task of type \n",
      "line 1: no task of type \n",
      "line 2: no task of type \n",
      "line 5: no task of type HearingTask\n",
      "line 6: no task of type HearingTask\n",
      "line 7: no task of type HearingTask\n",
      "line 8: no task of type HearingTask\n",
      "line 9: no task of type HearingTask\n",
      "line 10: no task of type HearingTask\n",
      "line 12: no task of type HearingTask\n",
      "line 13: no task of type HearingTask\n",
      "line 14: no task of type HearingTask\n",
      "line 15: no task of type HearingTask\n",
      "line 17: no task of type HearingTask\n",
      "line 18: no task of type HearingTask\n",
      "line 19: no task of type HearingTask\n",
      "line 21: no task of type HearingTask\n",
      "line 22: no task of type HearingTask\n",
      "line 23: no task of type HearingTask\n",
      "line 27: no task of type HearingTask\n",
      "line 28: no task of type HearingTask\n",
      "line 29: no task of type HearingTask\n",
      "line 30: no task of type HearingTask\n",
      "line 31: no task of type HearingTask\n",
      "line 32: no task of type HearingTask\n",
      "line 33: no task of type HearingTask\n",
      "line 34: no task of type HearingTask\n",
      "line 35: no task of type HearingTask\n",
      "line 36: no task of type HearingTask\n",
      "line 39: no task of type HearingTask\n",
      "line 41: no task of type HearingTask\n",
      "line 42: no task of type HearingTask\n",
      "line 43: no task of type HearingTask\n",
      "line 44: no task of type HearingTask\n",
      "line 45: no task of type HearingTask\n",
      "line 46: no task of type HearingTask\n",
      "line 47: no task of type HearingTask\n",
      "line 49: no task of type HearingTask\n",
      "line 50: no task of type HearingTask\n",
      "line 51: no task of type HearingTask\n",
      "line 52: no task of type HearingTask\n",
      "line 53: no task of type HearingTask\n",
      "line 54: no task of type HearingTask\n",
      "line 55: no task of type HearingTask\n",
      "line 57: no task of type HearingTask\n",
      "line 58: no task of type HearingTask\n",
      "line 59: no task of type HearingTask\n",
      "line 60: no task of type HearingTask\n",
      "line 62: no task of type HearingTask\n",
      "line 64: no task of type HearingTask\n",
      "line 66: no task of type HearingTask\n",
      "line 67: no task of type HearingTask\n",
      "line 68: no task of type HearingTask\n",
      "line 69: no task of type HearingTask\n",
      "line 71: no task of type HearingTask\n",
      "line 72: no task of type HearingTask\n",
      "line 73: no task of type HearingTask\n",
      "line 74: no task of type HearingTask\n",
      "line 75: no task of type HearingTask\n",
      "line 76: no task of type HearingTask\n",
      "line 78: no task of type HearingTask\n",
      "line 79: no task of type HearingTask\n",
      "line 80: no task of type HearingTask\n",
      "line 81: no task of type HearingTask\n",
      "line 82: no task of type HearingTask\n",
      "line 83: no task of type HearingTask\n",
      "line 84: no task of type HearingTask\n",
      "line 85: no task of type HearingTask\n",
      "line 86: no task of type HearingTask\n",
      "line 87: no task of type HearingTask\n",
      "line 88: no task of type HearingTask\n",
      "line 89: no task of type HearingTask\n",
      "line 90: no task of type HearingTask\n",
      "line 91: no task of type HearingTask\n",
      "line 92: no task of type HearingTask\n",
      "line 93: no task of type HearingTask\n",
      "line 94: no task of type HearingTask\n",
      "line 96: no task of type HearingTask\n",
      "line 98: no task of type HearingTask\n",
      "line 99: no task of type HearingTask\n"
     ]
    },
    {
     "data": {
      "text/plain": [
       "1..1"
      ]
     },
     "execution_count": 5,
     "metadata": {},
     "output_type": "execute_result"
    }
   ],
   "source": [
    "task_type_index=0\n",
    "task_type=nil\n",
    "spent_time=[]\n",
    "arrs=[]\n",
    "(1..1).each{|i|\n",
    "  puts \"-- output#{i}.csv\"\n",
    "  File.open(\"output#{i}.csv\", 'r').each_line.with_index do |line, index|\n",
    "    arr = eval(line)\n",
    "    taskTypeArr=arr[task_type_index]\n",
    "    # if taskTypeArr.count > 1 \n",
    "    firstTask=taskTypeArr.first\n",
    "    puts \"line #{index}: no task of type #{task_type}\" unless firstTask\n",
    "    next unless firstTask\n",
    "\n",
    "    task_type=firstTask.first\n",
    "    assigned_at=DateTime.iso8601 firstTask[1]\n",
    "    completed_at=DateTime.iso8601 firstTask[2]\n",
    "    # https://stackoverflow.com/questions/30953115/how-to-get-time-difference-in-minutes-in-rails-for-two-date-time-fields\n",
    "    spent_time << ((completed_at - assigned_at)*24*60).to_i # minutes\n",
    "    arrs << firstTask[3]\n",
    "  end;\n",
    "}\n"
   ]
  },
  {
   "cell_type": "code",
   "execution_count": 1,
   "metadata": {},
   "outputs": [
    {
     "data": {
      "text/plain": [
       "[\"HearingTask\", \"JudgeAssignTask\", \"AttorneyTask\", \"JudgeDecisionReviewTask\"]"
      ]
     },
     "execution_count": 1,
     "metadata": {},
     "output_type": "execute_result"
    }
   ],
   "source": [
    "task_types=[\"HearingTask\", \"JudgeAssignTask\", \"AttorneyTask\", \"JudgeDecisionReviewTask\"]"
   ]
  },
  {
   "cell_type": "code",
   "execution_count": null,
   "metadata": {},
   "outputs": [],
   "source": [
    "task_type=\"HearingTask\""
   ]
  },
  {
   "cell_type": "code",
   "execution_count": null,
   "metadata": {},
   "outputs": [],
   "source": [
    "f = File.new(\"task-#{task_type}.csv\", 'w')\n",
    "spent_time.each{|t|\n",
    "  f << \"#{t}\\n\"\n",
    "};\n",
    "f.close"
   ]
  }
 ],
 "metadata": {
  "kernelspec": {
   "display_name": "Ruby 2.5.3",
   "language": "ruby",
   "name": "ruby"
  },
  "language_info": {
   "file_extension": ".rb",
   "mimetype": "application/x-ruby",
   "name": "ruby",
   "version": "2.5.3"
  }
 },
 "nbformat": 4,
 "nbformat_minor": 4
}
