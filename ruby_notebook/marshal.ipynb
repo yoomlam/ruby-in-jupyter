{
 "cells": [
  {
   "cell_type": "code",
   "execution_count": 2,
   "metadata": {},
   "outputs": [
    {
     "data": {
      "text/plain": [
       "\"\\u0004\\bo:\\u0011AttorneyTask\\u000F:\\u0010@attributeso:\\u001EActiveModel::AttributeSet\\u0006;\\u0006U:#ActiveModel::LazyAttributeHash[\\n}\\u0015I\\\"\\aid\\u0006:\\u0006ETo:\\u001FActiveModel::Type::Integer\\t:\\u000F@precision0:\\v@scale0:\\v@limiti\\r:\\v@rangeo:\\nRange\\b:\\texclT:\\nbeginl-\\t\\u0000\\u0000\\u0000\\u0000\\u0000\\u0000\\u0000\\x80:\\bendl+\\t\\u0000\\u0000\\u0000\\u0000\\u0000\\u0000\\u0000\\x80I\\\"\\u000Eappeal_id\\u0006;\\tTo;\\n\\t;\\v0;\\f0;\\ri\\t;\\u000Eo;\\u000F\\b;\\u0010T;\\u0011l-\\a\\u0000\\u0000\\u0000\\x80;\\u0012l+\\a\\u0000\\u0000\\u0000\\x80I\\\"\\u0010appeal_type\\u0006;\\tTo:\\u001EActiveModel::Type::String\\b;\\v0;\\f0;\\r0I\\\"\\u0010assigned_at\\u0006;\\tTU:JActiveRecord::AttributeMethods::TimeZoneConversion::TimeZoneConverter[\\t:\\v__v2__[\\u0000[\\u0000o:@ActiveRecord::ConnectionAdapters::PostgreSQL::OID::DateTime\\b;\\v0;\\f0;\\r0I\\\"\\u0013assigned_by_id\\u0006;\\tT@\\u0010I\\\"\\u0013assigned_to_id\\u0006;\\tT@\\u0010I\\\"\\u0015assigned_to_type\\u0006;\\tT@\\u0015I\\\"\\u000Eclosed_at\\u0006;\\tTU;\\u0014[\\t;\\u0015[\\u0000[\\u0000@\\eI\\\"\\u000Fcreated_at\\u0006;\\tTU;\\u0014[\\t;\\u0015[\\u0000[\\u0000@\\eI\\\"\\u0011instructions\\u0006;\\tTo:=ActiveRecord::ConnectionAdapters::PostgreSQL::OID::Array\\t:\\r@subtypeo:\\u001DActiveRecord::Type::Text\\b;\\v0;\\f0;\\r0:\\u000F@delimiterI\\\"\\u0006,\\u0006;\\tT:\\u0010@pg_encoderU:\\ePG::TextEncoder::Array\\\"^\\u0004\\b{\\v:\\boidi\\u0000:\\vformati\\u0000:\\tnameI\\\"\\vtext[]\\u0006:\\u0006ET:\\u0012elements_type0:\\u0014needs_quotationT:\\u000Edelimiter\\\"\\u0006,:\\u0010@pg_decoderU:\\ePG::TextDecoder::Array\\\"^\\u0004\\b{\\v:\\boidi\\u0000:\\vformati\\u0000:\\tnameI\\\"\\vtext[]\\u0006:\\u0006ET:\\u0012elements_type0:\\u0014needs_quotationT:\\u000Edelimiter\\\"\\u0006,I\\\"\\u000Eparent_id\\u0006;\\tT@\\u0010I\\\"\\u0016placed_on_hold_at\\u0006;\\tTU;\\u0014[\\t;\\u0015[\\u0000[\\u0000@\\eI\\\"\\u000Fstarted_at\\u0006;\\tTU;\\u0014[\\t;\\u0015[\\u0000[\\u0000@\\eI\\\"\\vstatus\\u0006;\\tTo:!ActiveRecord::Enum::EnumType\\b:\\n@nameI\\\"\\vstatus\\u0006;\\tF:\\r@mappingC:-ActiveSupport::HashWithIndifferentAccess{\\nI\\\"\\rassigned\\u0006;\\tFI\\\"\\rassigned\\u0006;\\tTI\\\"\\u0010in_progress\\u0006;\\tFI\\\"\\u0010in_progress\\u0006;\\tTI\\\"\\fon_hold\\u0006;\\tFI\\\"\\fon_hold\\u0006;\\tTI\\\"\\u000Ecompleted\\u0006;\\tFI\\\"\\u000Ecompleted\\u0006;\\tTI\\\"\\u000Ecancelled\\u0006;\\tFI\\\"\\u000Ecancelled\\u0006;\\tT;\\u0018@\\u0015I\\\"\\ttype\\u0006;\\tT@\\u0015I\\\"\\u000Fupdated_at\\u0006;\\tTU;\\u0014[\\t;\\u0015[\\u0000[\\u0000@\\eo:\\u001DActiveModel::Type::Value\\b;\\v0;\\f0;\\r0{\\u0015I\\\"\\aid\\u0006;\\tTi\\u0002l\\bI\\\"\\u000Eappeal_id\\u0006;\\tTi\\u0002\\xC2\\u0002I\\\"\\u0010appeal_type\\u0006;\\tTI\\\"\\vAppeal\\u0006;\\tTI\\\"\\u0010assigned_at\\u0006;\\tTI\\\"\\u001F2020-06-15 13:43:16.945791\\u0006;\\tTI\\\"\\u0013assigned_by_id\\u0006;\\tTi\\bI\\\"\\u0013assigned_to_id\\u0006;\\tTiLI\\\"\\u0015assigned_to_type\\u0006;\\tTI\\\"\\tUser\\u0006;\\tTI\\\"\\u000Eclosed_at\\u0006;\\tT0I\\\"\\u000Fcreated_at\\u0006;\\tTI\\\"\\u001F2020-06-15 13:43:16.945791\\u0006;\\tTI\\\"\\u0011instructions\\u0006;\\tTI\\\"\\a{}\\u0006;\\tTI\\\"\\u000Eparent_id\\u0006;\\tTi\\u0002k\\bI\\\"\\u0016placed_on_hold_at\\u0006;\\tT0I\\\"\\u000Fstarted_at\\u0006;\\tT0I\\\"\\vstatus\\u0006;\\tTI\\\"\\rassigned\\u0006;\\tTI\\\"\\ttype\\u0006;\\tTI\\\"\\u0011AttorneyTask\\u0006;\\tTI\\\"\\u000Fupdated_at\\u0006;\\tTI\\\"\\u001F2020-06-15 13:43:16.945791\\u0006;\\tT{\\u0000{\\u0006@\\no:)ActiveModel::Attribute::FromDatabase\\t; @\\n:\\u001C@value_before_type_cast0:\\n@type@\\v:\\u0018@original_attribute0{\\u0000:\\u0017@aggregation_cache{\\u0000:\\u0017@association_cache{\\u0000:\\u000E@readonlyF:\\u000F@destroyedF:\\u001C@marked_for_destructionF:\\u001E@destroyed_by_association0:\\u0010@new_recordF:\\u001E@_start_transaction_state{\\u0000:\\u0017@transaction_state0\""
      ]
     },
     "execution_count": 2,
     "metadata": {},
     "output_type": "execute_result"
    }
   ],
   "source": [
    "m=\"\\x04\\bo:\\x11AttorneyTask\\x0F:\\x10@attributeso:\\x1EActiveModel::AttributeSet\\x06;\\x06U:#ActiveModel::LazyAttributeHash[\\n}\\x15I\\\"\\aid\\x06:\\x06ETo:\\x1FActiveModel::Type::Integer\\t:\\x0F@precision0:\\v@scale0:\\v@limiti\\r:\\v@rangeo:\\nRange\\b:\\texclT:\\nbeginl-\\t\\x00\\x00\\x00\\x00\\x00\\x00\\x00\\x80:\\bendl+\\t\\x00\\x00\\x00\\x00\\x00\\x00\\x00\\x80I\\\"\\x0Eappeal_id\\x06;\\tTo;\\n\\t;\\v0;\\f0;\\ri\\t;\\x0Eo;\\x0F\\b;\\x10T;\\x11l-\\a\\x00\\x00\\x00\\x80;\\x12l+\\a\\x00\\x00\\x00\\x80I\\\"\\x10appeal_type\\x06;\\tTo:\\x1EActiveModel::Type::String\\b;\\v0;\\f0;\\r0I\\\"\\x10assigned_at\\x06;\\tTU:JActiveRecord::AttributeMethods::TimeZoneConversion::TimeZoneConverter[\\t:\\v__v2__[\\x00[\\x00o:@ActiveRecord::ConnectionAdapters::PostgreSQL::OID::DateTime\\b;\\v0;\\f0;\\r0I\\\"\\x13assigned_by_id\\x06;\\tT@\\x10I\\\"\\x13assigned_to_id\\x06;\\tT@\\x10I\\\"\\x15assigned_to_type\\x06;\\tT@\\x15I\\\"\\x0Eclosed_at\\x06;\\tTU;\\x14[\\t;\\x15[\\x00[\\x00@\\eI\\\"\\x0Fcreated_at\\x06;\\tTU;\\x14[\\t;\\x15[\\x00[\\x00@\\eI\\\"\\x11instructions\\x06;\\tTo:=ActiveRecord::ConnectionAdapters::PostgreSQL::OID::Array\\t:\\r@subtypeo:\\x1DActiveRecord::Type::Text\\b;\\v0;\\f0;\\r0:\\x0F@delimiterI\\\"\\x06,\\x06;\\tT:\\x10@pg_encoderU:\\ePG::TextEncoder::Array\\\"^\\x04\\b{\\v:\\boidi\\x00:\\vformati\\x00:\\tnameI\\\"\\vtext[]\\x06:\\x06ET:\\x12elements_type0:\\x14needs_quotationT:\\x0Edelimiter\\\"\\x06,:\\x10@pg_decoderU:\\ePG::TextDecoder::Array\\\"^\\x04\\b{\\v:\\boidi\\x00:\\vformati\\x00:\\tnameI\\\"\\vtext[]\\x06:\\x06ET:\\x12elements_type0:\\x14needs_quotationT:\\x0Edelimiter\\\"\\x06,I\\\"\\x0Eparent_id\\x06;\\tT@\\x10I\\\"\\x16placed_on_hold_at\\x06;\\tTU;\\x14[\\t;\\x15[\\x00[\\x00@\\eI\\\"\\x0Fstarted_at\\x06;\\tTU;\\x14[\\t;\\x15[\\x00[\\x00@\\eI\\\"\\vstatus\\x06;\\tTo:!ActiveRecord::Enum::EnumType\\b:\\n@nameI\\\"\\vstatus\\x06;\\tF:\\r@mappingC:-ActiveSupport::HashWithIndifferentAccess{\\nI\\\"\\rassigned\\x06;\\tFI\\\"\\rassigned\\x06;\\tTI\\\"\\x10in_progress\\x06;\\tFI\\\"\\x10in_progress\\x06;\\tTI\\\"\\fon_hold\\x06;\\tFI\\\"\\fon_hold\\x06;\\tTI\\\"\\x0Ecompleted\\x06;\\tFI\\\"\\x0Ecompleted\\x06;\\tTI\\\"\\x0Ecancelled\\x06;\\tFI\\\"\\x0Ecancelled\\x06;\\tT;\\x18@\\x15I\\\"\\ttype\\x06;\\tT@\\x15I\\\"\\x0Fupdated_at\\x06;\\tTU;\\x14[\\t;\\x15[\\x00[\\x00@\\eo:\\x1DActiveModel::Type::Value\\b;\\v0;\\f0;\\r0{\\x15I\\\"\\aid\\x06;\\tTi\\x02l\\bI\\\"\\x0Eappeal_id\\x06;\\tTi\\x02\\xC2\\x02I\\\"\\x10appeal_type\\x06;\\tTI\\\"\\vAppeal\\x06;\\tTI\\\"\\x10assigned_at\\x06;\\tTI\\\"\\x1F2020-06-15 13:43:16.945791\\x06;\\tTI\\\"\\x13assigned_by_id\\x06;\\tTi\\bI\\\"\\x13assigned_to_id\\x06;\\tTiLI\\\"\\x15assigned_to_type\\x06;\\tTI\\\"\\tUser\\x06;\\tTI\\\"\\x0Eclosed_at\\x06;\\tT0I\\\"\\x0Fcreated_at\\x06;\\tTI\\\"\\x1F2020-06-15 13:43:16.945791\\x06;\\tTI\\\"\\x11instructions\\x06;\\tTI\\\"\\a{}\\x06;\\tTI\\\"\\x0Eparent_id\\x06;\\tTi\\x02k\\bI\\\"\\x16placed_on_hold_at\\x06;\\tT0I\\\"\\x0Fstarted_at\\x06;\\tT0I\\\"\\vstatus\\x06;\\tTI\\\"\\rassigned\\x06;\\tTI\\\"\\ttype\\x06;\\tTI\\\"\\x11AttorneyTask\\x06;\\tTI\\\"\\x0Fupdated_at\\x06;\\tTI\\\"\\x1F2020-06-15 13:43:16.945791\\x06;\\tT{\\x00{\\x06@\\no:)ActiveModel::Attribute::FromDatabase\\t; @\\n:\\x1C@value_before_type_cast0:\\n@type@\\v:\\x18@original_attribute0{\\x00:\\x17@aggregation_cache{\\x00:\\x17@association_cache{\\x00:\\x0E@readonlyF:\\x0F@destroyedF:\\x1C@marked_for_destructionF:\\x1E@destroyed_by_association0:\\x10@new_recordF:\\x1E@_start_transaction_state{\\x00:\\x17@transaction_state0\"\n"
   ]
  },
  {
   "cell_type": "code",
   "execution_count": null,
   "metadata": {},
   "outputs": [
    {
     "name": "stderr",
     "output_type": "stream",
     "text": [
      "/home/jovyan/.gem/ruby/2.7.0/gems/pry-0.12.2/lib/pry/exceptions.rb:28: warning: $SAFE will become a normal global variable in Ruby 3.0\n"
     ]
    },
    {
     "ename": "ArgumentError",
     "evalue": "undefined class/module AttorneyTask",
     "output_type": "error",
     "traceback": [
      "\u001b[31mArgumentError\u001b[0m: undefined class/module AttorneyTask",
      "(pry):3:in `load'",
      "(pry):3:in `<main>'",
      "/home/jovyan/.gem/ruby/2.7.0/gems/pry-0.12.2/lib/pry/pry_instance.rb:387:in `eval'",
      "/home/jovyan/.gem/ruby/2.7.0/gems/pry-0.12.2/lib/pry/pry_instance.rb:387:in `evaluate_ruby'",
      "/home/jovyan/.gem/ruby/2.7.0/gems/pry-0.12.2/lib/pry/pry_instance.rb:355:in `handle_line'",
      "/home/jovyan/.gem/ruby/2.7.0/gems/pry-0.12.2/lib/pry/pry_instance.rb:274:in `block (2 levels) in eval'",
      "/home/jovyan/.gem/ruby/2.7.0/gems/pry-0.12.2/lib/pry/pry_instance.rb:273:in `catch'",
      "/home/jovyan/.gem/ruby/2.7.0/gems/pry-0.12.2/lib/pry/pry_instance.rb:273:in `block in eval'",
      "/home/jovyan/.gem/ruby/2.7.0/gems/pry-0.12.2/lib/pry/pry_instance.rb:272:in `catch'",
      "/home/jovyan/.gem/ruby/2.7.0/gems/pry-0.12.2/lib/pry/pry_instance.rb:272:in `eval'",
      "/home/jovyan/.gem/ruby/2.7.0/gems/iruby-0.4.0/lib/iruby/backend.rb:66:in `eval'",
      "/home/jovyan/.gem/ruby/2.7.0/gems/iruby-0.4.0/lib/iruby/backend.rb:12:in `eval'",
      "/home/jovyan/.gem/ruby/2.7.0/gems/iruby-0.4.0/lib/iruby/kernel.rb:90:in `execute_request'",
      "/home/jovyan/.gem/ruby/2.7.0/gems/iruby-0.4.0/lib/iruby/kernel.rb:49:in `dispatch'",
      "/home/jovyan/.gem/ruby/2.7.0/gems/iruby-0.4.0/lib/iruby/kernel.rb:38:in `run'",
      "/home/jovyan/.gem/ruby/2.7.0/gems/iruby-0.4.0/lib/iruby/command.rb:110:in `run_kernel'",
      "/home/jovyan/.gem/ruby/2.7.0/gems/iruby-0.4.0/lib/iruby/command.rb:40:in `run'",
      "/home/jovyan/.gem/ruby/2.7.0/gems/iruby-0.4.0/bin/iruby:5:in `<top (required)>'",
      "/home/jovyan/.gem/ruby/2.7.0/bin/iruby:23:in `load'",
      "/home/jovyan/.gem/ruby/2.7.0/bin/iruby:23:in `<main>'"
     ]
    }
   ],
   "source": [
    "t=Marshal.load(m)"
   ]
  },
  {
   "cell_type": "code",
   "execution_count": null,
   "metadata": {},
   "outputs": [],
   "source": []
  }
 ],
 "metadata": {
  "kernelspec": {
   "display_name": "Ruby 2.7.0",
   "language": "ruby",
   "name": "ruby"
  },
  "language_info": {
   "file_extension": ".rb",
   "mimetype": "application/x-ruby",
   "name": "ruby",
   "version": "2.7.0"
  }
 },
 "nbformat": 4,
 "nbformat_minor": 2
}
